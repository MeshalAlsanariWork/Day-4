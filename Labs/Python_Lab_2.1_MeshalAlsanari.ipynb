{
 "cells": [
  {
   "cell_type": "markdown",
   "metadata": {
    "id": "x7F-mxeubDUG"
   },
   "source": [
    "# Python_Lab_2.1\n"
   ]
  },
  {
   "cell_type": "markdown",
   "metadata": {
    "id": "14c6Hn1BbDUH"
   },
   "source": [
    "### Task 1\n",
    "1. Write a function named is_prime that takes a number as a parameter and returns True if the number is prime and False otherwise. Print whether the number 29 is prime."
   ]
  },
  {
   "cell_type": "code",
   "execution_count": 3,
   "metadata": {
    "id": "5e_MZEN0bDUI"
   },
   "outputs": [
    {
     "name": "stdout",
     "output_type": "stream",
     "text": [
      "the number of 29 return \" True \" Becauce it is a True Prime Number\n"
     ]
    }
   ],
   "source": [
    "def is_prime(number):\n",
    "    if number < 2:\n",
    "        return False\n",
    "    else:\n",
    "        for x in range(2,number):\n",
    "            if number % x == 0:\n",
    "                return False\n",
    "\n",
    "        return True\n",
    "\n",
    "result = is_prime(29)\n",
    "print(f'the number of 29 return \" {result} \" Becauce it is a True Prime Number')"
   ]
  },
  {
   "cell_type": "markdown",
   "metadata": {
    "id": "2zKG8ZcybDUI"
   },
   "source": [
    "### Task 2\n",
    "1. Create a list of 10 numbers and sort them in descending order using the sort() function.\n",
    "2. Use the len() function to print the length of the sorted list.\n",
    "3. Use the zip() function to combine three lists (names, ages, and cities) into a list of tuples.\n",
    "4. Use the range() function to create a list of even numbers from 2 to 20 and print the list."
   ]
  },
  {
   "cell_type": "code",
   "execution_count": 4,
   "metadata": {
    "id": "yyoe__M_bDUI"
   },
   "outputs": [
    {
     "name": "stdout",
     "output_type": "stream",
     "text": [
      "[50, 50, 40, 25, 24, 23, 10, 5, 1, 0]\n",
      "10\n",
      "[('Meshal', 25, 'Riyadh'), ('ahmed', 26, 'Jeddah'), ('Sara', 19, 'Dammam')]\n",
      "[2, 4, 6, 8, 10, 12, 14, 16, 18, 20]\n"
     ]
    }
   ],
   "source": [
    "#1\n",
    "list2 = [1,5,10,25,50,40,23,50,24,0]\n",
    "list2.sort(reverse=True)\n",
    "print(list2)\n",
    "\n",
    "#2\n",
    "print(len(list2))\n",
    "\n",
    "#3\n",
    "names = [\"Meshal\",\"ahmed\",\"Sara\"]\n",
    "ages = [25,26,19]\n",
    "cities = [\"Riyadh\",\"Jeddah\",\"Dammam\"]\n",
    "\n",
    "All = list(zip(names,ages,cities))\n",
    "print(All)\n",
    "\n",
    "#4\n",
    "evenList = []\n",
    "\n",
    "for x in range(2,21):\n",
    "    if x % 2 == 0:\n",
    "        evenList.append(x)\n",
    "    \n",
    "print(evenList)\n"
   ]
  },
  {
   "cell_type": "markdown",
   "metadata": {
    "id": "aStW5p7AbDUI"
   },
   "source": [
    "### Task 3\n",
    "Build a phone book program that receives the phone number, and returns the name of the owner.\n",
    "You can follow the table below:\n",
    "\n",
    "| Name     | Number     |\n",
    "| -------- | ---------- |\n",
    "| Amal     | 1111111111 |\n",
    "| Mohammed | 2222222222 |\n",
    "| Khadijah | 3333333333 |\n",
    "| Abdullah | 4444444444 |\n",
    "| Rawan    | 5555555555 |\n",
    "| Faisal   | 6666666666 |\n",
    "| Layla    | 7777777777 |\n",
    "\n",
    "- If the number exists, print the owner. Otherwise, print \"Sorry, the number is not found\".\n",
    "- If the number is less or more than 10 numbers, print \"This is invalid number\".\n",
    "- If the number contains letters or symbols, print \"This is invalid number\".\n"
   ]
  },
  {
   "cell_type": "code",
   "execution_count": 3,
   "metadata": {
    "id": "kvXmjUe-bDUJ"
   },
   "outputs": [
    {
     "name": "stdout",
     "output_type": "stream",
     "text": [
      "Amal\n"
     ]
    }
   ],
   "source": [
    "PhoneNumbers = {\n",
    "    \"1111111111\":\"Amal\",\n",
    "    \"2222222222\":\"Mohammed\",\n",
    "    \"3333333333\":\"Khadijah\",\n",
    "    \"4444444444\":\"Abdullah\",\n",
    "    \"5555555555\":\"Rawan\",\n",
    "    \"6666666666\":\"Faisal\",\n",
    "    \"7777777777\":\"Layla\"\n",
    "}\n",
    "        \n",
    "Call = input(\"enter phone number\")\n",
    "\n",
    "if Call in PhoneNumbers:\n",
    "     print(PhoneNumbers[Call])\n",
    "elif not Call.isdigit():\n",
    "    print(\"not int\")\n",
    "elif len(Call) != 10:\n",
    "    print(\"this is invalid number\")\n",
    "else:\n",
    "    print(\"Sorry the number is not found!\")\n"
   ]
  },
  {
   "cell_type": "markdown",
   "metadata": {
    "id": "exLHQ28nbDUJ"
   },
   "source": [
    "### Task 4\n",
    "- Given the following list : [5, 4, 17, 19, 30, 2, 7, 10, 45]\n",
    "    1. Use a lambda function to filter out only the odd numbers.\n",
    "    2. Print the new list of odd numbers."
   ]
  },
  {
   "cell_type": "code",
   "execution_count": 5,
   "metadata": {
    "id": "64SUsh1cbDUJ"
   },
   "outputs": [
    {
     "name": "stdout",
     "output_type": "stream",
     "text": [
      "[5, 17, 19, 7, 45]\n"
     ]
    }
   ],
   "source": [
    "list1 = [5,4,17,19,30,2,7,10,45]\n",
    "\n",
    "list2 = list(filter(lambda x : x % 2 != 0, list1))\n",
    "print(list2)"
   ]
  }
 ],
 "metadata": {
  "colab": {
   "provenance": []
  },
  "kernelspec": {
   "display_name": "base",
   "language": "python",
   "name": "python3"
  },
  "language_info": {
   "codemirror_mode": {
    "name": "ipython",
    "version": 3
   },
   "file_extension": ".py",
   "mimetype": "text/x-python",
   "name": "python",
   "nbconvert_exporter": "python",
   "pygments_lexer": "ipython3",
   "version": "3.12.4"
  }
 },
 "nbformat": 4,
 "nbformat_minor": 0
}
