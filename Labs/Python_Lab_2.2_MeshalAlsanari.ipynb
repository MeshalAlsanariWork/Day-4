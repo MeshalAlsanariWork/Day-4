{
 "cells": [
  {
   "cell_type": "markdown",
   "metadata": {
    "id": "E9Y5ss1ZYj3r"
   },
   "source": [
    "# Python_Lab_2.2\n"
   ]
  },
  {
   "cell_type": "markdown",
   "metadata": {
    "id": "Q1kAqc72Yj3t"
   },
   "source": [
    "### Task 1\n",
    "1. Write a program that prompts the user to enter two numbers and prints their division. Handle cases where the user enters non-numeric values or attempts to divide by zero using a try-except block.\n"
   ]
  },
  {
   "cell_type": "code",
   "execution_count": 13,
   "metadata": {
    "id": "H-xyoRTVYj3t"
   },
   "outputs": [
    {
     "name": "stdout",
     "output_type": "stream",
     "text": [
      "You can't divide a zero\n"
     ]
    }
   ],
   "source": [
    "try:\n",
    "    num1 = float(input(\"Enter first number\"))\n",
    "    num2 = float(input(\"Enter second number\"))\n",
    "    print(num1/num2)\n",
    "\n",
    "###\n",
    "\n",
    "except ValueError:\n",
    "    print(\"wrong, enter a number\")\n",
    "except ZeroDivisionError:\n",
    "    print(\"You can't divide a zero\")\n",
    "\n"
   ]
  },
  {
   "cell_type": "markdown",
   "metadata": {
    "id": "CPWcDSC_Yj3u"
   },
   "source": [
    "### Task 2\n",
    "- Use \"Random\" library to do the following:\n",
    "    1. Create a list of random numbers using list comprehension.\n",
    "    2. Create a list of squares of the even numbers from random numbers using list comprehension.\n",
    "    3. Create a list of tuples (number, square) for random numbers using list comprehension."
   ]
  },
  {
   "cell_type": "code",
   "execution_count": 48,
   "metadata": {
    "id": "Yfq-i6CeYj3u"
   },
   "outputs": [
    {
     "name": "stdout",
     "output_type": "stream",
     "text": [
      "[72, 12, 28, 96, 26, 43, 79, 37, 83, 17]\n",
      "[5184, 144, 784, 9216, 676]\n",
      "[(72, 5184), (12, 144), (28, 784), (96, 9216), (26, 676), (43, 1849), (79, 6241), (37, 1369), (83, 6889), (17, 289)]\n"
     ]
    }
   ],
   "source": [
    "#1\n",
    "import random\n",
    "list1 = [random.randint(1,100) for x in range(10)]\n",
    "print(list1)\n",
    "\n",
    "#2 \n",
    "\n",
    "list2 = [x**2 for x in list1 if x % 2 == 0]\n",
    "print(list2)\n",
    "\n",
    "#3\n",
    "\n",
    "list3 = [(x,x**2) for x in list1]\n",
    "print(list3)\n"
   ]
  },
  {
   "cell_type": "markdown",
   "metadata": {
    "id": "jYdOq46NYj3u"
   },
   "source": [
    "### Task 3\n",
    "- Create a dictionary where the keys are numbers from 1 to 5 and the values are list of their squares and cubes.\n",
    "\n",
    "  - **hint**: use dictionary of list comprehension.\n",
    "\n",
    "- Create a dictionary from two lists (one with keys and one with values) using dictionary comprehension.\n",
    "\n"
   ]
  },
  {
   "cell_type": "code",
   "execution_count": 11,
   "metadata": {
    "id": "IEnsiNmCYj3u"
   },
   "outputs": [
    {
     "name": "stdout",
     "output_type": "stream",
     "text": [
      "{1: [1, 1], 2: [4, 8], 3: [9, 27], 4: [16, 64], 5: [25, 125]}\n",
      "{'a': 10, 'b': 20, 'c': 30, 'd': 40, 'e': 50}\n"
     ]
    }
   ],
   "source": [
    "#1\n",
    "newDict0 = {key:[key**2,key**3] for key in range(1,6)}\n",
    "print(newDict0)\n",
    "\n",
    "#2\n",
    "k = [\"a\",\"b\",\"c\",\"d\",\"e\"]\n",
    "v = [10,20,30,40,50]\n",
    "\n",
    "newDict1 = {key:value for key, value in zip(k,v)}\n",
    "print(newDict1)\n",
    "\n"
   ]
  },
  {
   "cell_type": "markdown",
   "metadata": {
    "id": "6T9TCQ8SYj3v"
   },
   "source": [
    "### Task 4\n",
    "- Given a dictionary where keys are student names and values are lists of their scores, write a function that updates the scores of students who have achieved a perfect score (100) by adding a bonus of 5 points to each score. Use dictionary comprehension to achieve this.\n",
    "\n",
    "    - Implement the function add_bonus_to_perfect_scores(student_scores) that adds a bonus of 5 points to each score of students who have achieved a perfect score (100)."
   ]
  },
  {
   "cell_type": "code",
   "execution_count": 55,
   "metadata": {
    "id": "T3R_VsQpYj3v"
   },
   "outputs": [
    {
     "name": "stdout",
     "output_type": "stream",
     "text": [
      "{'meshal': [105, 39, 23, 93, 10], 'ahmed': [105, 30, 40, 60, 13], 'maha': [90, 20, 40, 105, 32]}\n"
     ]
    }
   ],
   "source": [
    "#1\n",
    "students = {\n",
    "         \"meshal\":[100,39,23,93,10],\n",
    "         \"ahmed\":[100,30,40,60,13],\n",
    "         \"maha\": [90,20,40,100,32]}\n",
    "\n",
    "\n",
    "def add_bonus_to_perfect_scores(student_score):\n",
    "    return {student: [score + 5 if score == 100 else score for score in scores] for student, scores in students.items()}\n",
    "\n",
    "newScore = add_bonus_to_perfect_scores(students)\n",
    "print(newScore)\n",
    "\n",
    "\n",
    "\n"
   ]
  },
  {
   "cell_type": "markdown",
   "metadata": {
    "id": "rJkOEFAwYj3v"
   },
   "source": []
  }
 ],
 "metadata": {
  "colab": {
   "provenance": []
  },
  "kernelspec": {
   "display_name": "base",
   "language": "python",
   "name": "python3"
  },
  "language_info": {
   "codemirror_mode": {
    "name": "ipython",
    "version": 3
   },
   "file_extension": ".py",
   "mimetype": "text/x-python",
   "name": "python",
   "nbconvert_exporter": "python",
   "pygments_lexer": "ipython3",
   "version": "3.12.4"
  }
 },
 "nbformat": 4,
 "nbformat_minor": 0
}
